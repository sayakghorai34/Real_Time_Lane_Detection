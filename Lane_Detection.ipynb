{
 "cells": [
  {
   "cell_type": "markdown",
   "metadata": {},
   "source": [
    "### 1. Import libraries\n"
   ]
  },
  {
   "cell_type": "code",
   "execution_count": 74,
   "metadata": {},
   "outputs": [],
   "source": [
    "import numpy as np\n",
    "import cv2\n",
    "from moviepy import editor"
   ]
  },
  {
   "cell_type": "code",
   "execution_count": 76,
   "metadata": {},
   "outputs": [],
   "source": [
    "\n",
    "def hough_transform(image):\n",
    "    rho = 1\n",
    "    theta = np.pi/180\n",
    "    threshold = 20\n",
    "    minLineLength = 20\n",
    "    maxLineGap = 500\n",
    "    lines = cv2.HoughLinesP(image, rho=rho, theta=theta, threshold=threshold,\n",
    "                            minLineLength=minLineLength, maxLineGap=maxLineGap)\n",
    "    return lines if lines is not None else []\n"
   ]
  },
  {
   "cell_type": "code",
   "execution_count": 75,
   "metadata": {},
   "outputs": [],
   "source": [
    "def region_selection(image):\n",
    "\tmask = np.zeros_like(image) \n",
    "\tif len(image.shape) > 2:\n",
    "\t\tchannel_count = image.shape[2]\n",
    "\t\tignore_mask_color = (255,) * channel_count\n",
    "\telse:\n",
    "\t\tignore_mask_color = 255\n",
    "\trows, cols = image.shape[:2]\n",
    "\tbottom_left = [cols * 0.1, rows * 0.95]\n",
    "\ttop_left\t = [cols * 0.4, rows * 0.6]\n",
    "\tbottom_right = [cols * 0.9, rows * 0.95]\n",
    "\ttop_right = [cols * 0.6, rows * 0.6]\n",
    "\tvertices = np.array([[bottom_left, top_left, top_right, bottom_right]], dtype=np.int32)\n",
    "\tcv2.fillPoly(mask, vertices, ignore_mask_color)\n",
    "\tmasked_image = cv2.bitwise_and(image, mask)\n",
    "\treturn masked_image\n"
   ]
  },
  {
   "cell_type": "code",
   "execution_count": 77,
   "metadata": {},
   "outputs": [],
   "source": [
    "def average_slope_intercept(lines):\n",
    "    left_lines = []\n",
    "    left_weights = []\n",
    "    right_lines = []\n",
    "    right_weights = []\n",
    "    for line in lines:\n",
    "        for x1, y1, x2, y2 in line:\n",
    "            if x1 == x2:\n",
    "                continue\n",
    "            slope = (y2 - y1) / (x2 - x1)\n",
    "            intercept = y1 - (slope * x1)\n",
    "            length = np.sqrt(((y2 - y1) ** 2) + ((x2 - x1) ** 2))\n",
    "            if slope < 0:\n",
    "                left_lines.append((slope, intercept))\n",
    "                left_weights.append((length))\n",
    "            else:\n",
    "                right_lines.append((slope, intercept))\n",
    "                right_weights.append((length))\n",
    "    left_lane = np.dot(left_weights, left_lines) / np.sum(left_weights) if len(left_weights) > 0 else None\n",
    "    right_lane = np.dot(right_weights, right_lines) / np.sum(right_weights) if len(right_weights) > 0 else None\n",
    "    return left_lane, right_lane\n"
   ]
  },
  {
   "cell_type": "code",
   "execution_count": 78,
   "metadata": {},
   "outputs": [],
   "source": [
    "def pixel_points(y1, y2, line):\n",
    "\tif line is None:\n",
    "\t\treturn None\n",
    "\tslope, intercept = line\n",
    "\tx1 = int((y1 - intercept)/slope)\n",
    "\tx2 = int((y2 - intercept)/slope)\n",
    "\ty1 = int(y1)\n",
    "\ty2 = int(y2)\n",
    "\treturn ((x1, y1), (x2, y2))"
   ]
  },
  {
   "cell_type": "code",
   "execution_count": 79,
   "metadata": {},
   "outputs": [],
   "source": [
    "def lane_lines(image, lines):\n",
    "    if lines is None or len(lines) == 0:\n",
    "        return None, None\n",
    "    left_lane, right_lane = average_slope_intercept(lines)\n",
    "    y1 = image.shape[0]\n",
    "    y2 = int(y1 * 0.52)  # Adjust the param to get the line length(smaller coeff» longer line)\n",
    "    left_line = pixel_points(y1, y2, left_lane)\n",
    "    right_line = pixel_points(y1, y2, right_lane)\n",
    "    return left_line, right_line"
   ]
  },
  {
   "cell_type": "code",
   "execution_count": 80,
   "metadata": {},
   "outputs": [],
   "source": [
    "def draw_lane_lines(image, lines, color=[0, 255, 0], thickness=12):\n",
    "    line_image = np.zeros_like(image)\n",
    "    if lines:\n",
    "        for line in lines:\n",
    "            if line is not None:\n",
    "                cv2.line(line_image, *line, color, thickness)\n",
    "    return cv2.addWeighted(image, 1.0, line_image, 1.0, 0.0)"
   ]
  },
  {
   "cell_type": "code",
   "execution_count": 81,
   "metadata": {},
   "outputs": [],
   "source": [
    "def frame_processor(image):\n",
    "\tgrayscale = cv2.cvtColor(image, cv2.COLOR_BGR2GRAY)\n",
    "\tkernel_size = 3\n",
    "\tblur = cv2.GaussianBlur(grayscale, (kernel_size, kernel_size), 0)\n",
    "\tlow_t = 20\n",
    "\thigh_t = 100\n",
    "\tedges = cv2.Canny(blur, low_t, high_t)\n",
    "\tregion = region_selection(edges)\n",
    "\though = hough_transform(region)\n",
    "\tlanes = lane_lines(image, hough)\n",
    "\tresult = draw_lane_lines(image, lanes)\n",
    "\t\n",
    "\tgrayscale_3ch = cv2.cvtColor(grayscale, cv2.COLOR_GRAY2BGR)\n",
    "\tedges_3ch = cv2.cvtColor(edges, cv2.COLOR_GRAY2BGR)\n",
    "\tregion_3ch = cv2.cvtColor(region, cv2.COLOR_GRAY2BGR)\n",
    "\t\n",
    "\tconcatenated = np.concatenate((grayscale_3ch, edges_3ch, region_3ch, result), axis=1)\n",
    "\t\n",
    "\treturn concatenated\n"
   ]
  },
  {
   "cell_type": "code",
   "execution_count": 82,
   "metadata": {},
   "outputs": [
    {
     "name": "stdout",
     "output_type": "stream",
     "text": [
      "Processing video test2.mp4 at 50.0 FPS\n",
      "Moviepy - Building video output.mp4.\n",
      "Moviepy - Writing video output.mp4\n",
      "\n"
     ]
    },
    {
     "name": "stderr",
     "output_type": "stream",
     "text": [
      "                                                                \r"
     ]
    },
    {
     "name": "stdout",
     "output_type": "stream",
     "text": [
      "Moviepy - Done !\n",
      "Moviepy - video ready output.mp4\n"
     ]
    }
   ],
   "source": [
    "def process_video(test_video, output_video, fps=25.0):\n",
    "    try:\n",
    "        input_video = editor.VideoFileClip(test_video, audio=False)\n",
    "    except Exception as e:\n",
    "        raise ValueError(f\"Error loading video {test_video}: {e}\")\n",
    "    fps = float(input_video.fps) if input_video.fps is not None else fps\n",
    "    print(f\"Processing video {test_video} at {fps} FPS\")\n",
    "\n",
    "    processed = input_video.fl_image(frame_processor)\n",
    "    processed.write_videofile(output_video, fps=fps, audio=False)\n",
    "\n",
    "process_video('test2.mp4','output.mp4')"
   ]
  }
 ],
 "metadata": {
  "kernelspec": {
   "display_name": "Python 3",
   "language": "python",
   "name": "python3"
  },
  "language_info": {
   "codemirror_mode": {
    "name": "ipython",
    "version": 3
   },
   "file_extension": ".py",
   "mimetype": "text/x-python",
   "name": "python",
   "nbconvert_exporter": "python",
   "pygments_lexer": "ipython3",
   "version": "3.11.8"
  }
 },
 "nbformat": 4,
 "nbformat_minor": 2
}
